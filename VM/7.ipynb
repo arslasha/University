{
 "cells": [
  {
   "cell_type": "code",
   "execution_count": 13,
   "id": "initial_id",
   "metadata": {
    "ExecuteTime": {
     "end_time": "2024-12-10T06:37:13.087894Z",
     "start_time": "2024-12-10T06:37:13.076438Z"
    },
    "collapsed": true
   },
   "outputs": [],
   "source": [
    "import numpy as np\n",
    "import pandas as pd\n",
    "import matplotlib.pyplot as plt"
   ]
  },
  {
   "cell_type": "markdown",
   "id": "1704da4b64ae516a",
   "metadata": {},
   "source": [
    "# f(x) = 2^x - x^2\n",
    "# Найти экстремум функции, точность принять равную ε=0.01"
   ]
  },
  {
   "cell_type": "code",
   "execution_count": null,
   "id": "c6ed070498e5fe36",
   "metadata": {
    "ExecuteTime": {
     "end_time": "2024-12-10T06:37:13.191132Z",
     "start_time": "2024-12-10T06:37:13.161422Z"
    }
   },
   "outputs": [
    {
     "ename": "",
     "evalue": "",
     "output_type": "error",
     "traceback": [
      "\u001b[1;31mДля выполнения ячеек с \"/usr/local/bin/python3\" требуется пакет ipykernel.\n",
      "\u001b[1;31mRun the following command to install 'ipykernel' into the Python environment. \n",
      "\u001b[1;31mCommand: '/usr/local/bin/python3 -m pip install ipykernel -U --user --force-reinstall'"
     ]
    }
   ],
   "source": [
    "def f(x):\n",
    "    return 2**x - x**2\n",
    "\n",
    "EPS = 0.01\n",
    "y = np.arange(-4, 6, 0.1)\n",
    "x = np.array([f(i) for i in y])\n",
    "data = {'x': x, 'y': y}\n",
    "df = pd.DataFrame(data)\n",
    "print(df.describe())"
   ]
  },
  {
   "cell_type": "code",
   "execution_count": 45,
   "id": "bb0ad43a53a5b240",
   "metadata": {
    "ExecuteTime": {
     "end_time": "2024-12-10T06:45:57.759019Z",
     "start_time": "2024-12-10T06:45:57.519160Z"
    }
   },
   "outputs": [
    {
     "data": {
      "image/png": "[encoded data removed]",
      "text/plain": [
       "<Figure size 1000x600 with 1 Axes>"
      ]
     },
     "metadata": {},
     "output_type": "display_data"
    }
   ],
   "source": [
    "plt.figure(figsize=(10, 6))\n",
    "plt.plot(y, x, marker=\"o\", label=\"f(x)\", color=\"blue\", markersize=3)\n",
    "plt.title(\"График функции f(x) = 2^x - x^2\")\n",
    "plt.xlabel(\"y\")\n",
    "plt.ylabel(\"f(x)\")\n",
    "plt.legend()\n",
    "plt.grid()\n",
    "plt.show()"
   ]
  },
  {
   "cell_type": "code",
   "execution_count": null,
   "id": "a0fa10878640ae6d",
   "metadata": {
    "SqlCellData": {
     "variableName$1": "df_sql"
    }
   },
   "outputs": [],
   "source": [
    "%%sql\n"
   ]
  },
  {
   "cell_type": "code",
   "execution_count": 44,
   "id": "55ca31bf85602a88",
   "metadata": {
    "ExecuteTime": {
     "end_time": "2024-12-10T06:45:53.757833Z",
     "start_time": "2024-12-10T06:45:53.747609Z"
    }
   },
   "outputs": [
    {
     "name": "stdout",
     "output_type": "stream",
     "text": [
      "3.4804980468749998\n"
     ]
    }
   ],
   "source": [
    "# Начальные параметры\n",
    "EPS = 0.01\n",
    "x1 = 100\n",
    "x2 = 200\n",
    "mid = 100\n",
    "a = 2  # Левый конец интервала\n",
    "b = 4  # Правый конец интервала\n",
    "count = 0  # Счетчик итераций\n",
    "\n",
    "while (np.abs(x1 - x2) > EPS) and count <= 10:\n",
    "    mid = (a + b) / 2  # Середина интервала\n",
    "    x1 = mid - EPS\n",
    "    x2 = mid + EPS\n",
    "    f1 = f(x1)  # Вычисляем значение функции в x1\n",
    "    f2 = f(x2)  # Вычисляем значение функции в x2\n",
    "    \n",
    "    if f1 < f2:  # Сравниваем значения функции\n",
    "        b = x2  # Обновляем правый конец\n",
    "    else:\n",
    "        a = x1  # Обновляем левый конец\n",
    "    count += 1  # Увеличиваем счетчик итераций\n",
    "\n",
    "print(f\"Найденное значение: x = {mid}\")"
   ]
  },
  {
   "cell_type": "markdown",
   "metadata": {},
   "source": [
    "# f(x,y)=yxcos(x)\n",
    "# Найти экстремум функции, точность принять равную ε=0.01"
   ]
  },
  {
   "cell_type": "code",
   "execution_count": null,
   "metadata": {},
   "outputs": [],
   "source": [
    "# Определяем функцию\n",
    "def f(x, y):\n",
    "    return y**x * np.cos(x)\n",
    "\n",
    "# Градиенты функции\n",
    "def gradient_f(x, y):\n",
    "    df_dx = y**x * (np.log(y) * np.cos(x) - np.sin(x))\n",
    "    df_dy = x * y**(x-1) * np.cos(x)\n",
    "    return np.array([df_dx, df_dy])\n",
    "\n",
    "# Метод градиентного спуска для поиска экстремума\n",
    "def gradient_descent(start_x, start_y, lr=0.01, epsilon=0.01, max_iter=100):\n",
    "    x, y = start_x, start_y\n",
    "    for i in range(max_iter):\n",
    "        grad = gradient_f(x, y)\n",
    "        x, y = x - lr * grad[0], y - lr * grad[1]\n",
    "        if np.linalg.norm(grad) < epsilon:\n",
    "            print(f\"Сошлось за {i+1} итераций: x = {x:.4f}, y = {y:.4f}, f(x, y) = {f(x, y):.4f}\")\n",
    "            break\n",
    "        print(f\"Итерация {i+1}: x = {x:.4f}, y = {y:.4f}, f(x, y) = {f(x, y):.4f}\")\n",
    "    return x, y\n",
    "\n"
   ]
  },
  {
   "cell_type": "code",
   "execution_count": null,
   "metadata": {},
   "outputs": [],
   "source": [
    "# Начальные значения\n",
    "start_x, start_y = 1, 2  # Стартовые точки\n",
    "lr = 0.01  # Скорость обучения\n",
    "epsilon = 0.01  # Точность\n",
    "max_iter = 100  # Максимальное количество итераций\n",
    "\n",
    "# Поиск экстремума\n",
    "opt_x, opt_y = gradient_descent(start_x, start_y, lr, epsilon, max_iter)"
   ]
  },
  {
   "cell_type": "code",
   "execution_count": null,
   "metadata": {},
   "outputs": [],
   "source": [
    "# Построение трехмерного графика функции\n",
    "x = np.linspace(-2, 2, 100)\n",
    "y = np.linspace(1, 3, 100)\n",
    "X, Y = np.meshgrid(x, y)\n",
    "Z = f(X, Y)\n",
    "\n",
    "fig = plt.figure(figsize=(12, 8))\n",
    "ax = fig.add_subplot(111, projection='3d')\n",
    "ax.plot_surface(X, Y, Z, cmap='viridis', alpha=0.8)\n",
    "ax.scatter(opt_x, opt_y, f(opt_x, opt_y), color='red', s=50, label='Найденный экстремум')\n",
    "ax.set_title('График функции f(x, y) = y^x * cos(x)')\n",
    "ax.set_xlabel('x')\n",
    "ax.set_ylabel('y')\n",
    "ax.set_zlabel('f(x, y)')\n",
    "ax.legend()\n",
    "plt.show()"
   ]
  }
 ],
 "metadata": {
  "kernelspec": {
   "display_name": "Python 3",
   "language": "python",
   "name": "python3"
  },
  "language_info": {
   "codemirror_mode": {
    "name": "ipython",
    "version": 2
   },
   "file_extension": ".py",
   "mimetype": "text/x-python",
   "name": "python",
   "nbconvert_exporter": "python",
   "pygments_lexer": "ipython2",
   "version": "3.12.0"
  }
 },
 "nbformat": 4,
 "nbformat_minor": 5
}
